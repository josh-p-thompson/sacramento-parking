{
 "cells": [
  {
   "cell_type": "code",
   "execution_count": 53,
   "metadata": {},
   "outputs": [],
   "source": [
    "import pandas as pd\n",
    "import requests\n",
    "import datetime\n",
    "import time\n",
    "from math import cos, asin, sqrt\n",
    "import numpy as np\n",
    "\n",
    "pd.set_option('display.max_rows', 1000)\n",
    "pd.set_option('display.max_columns', 500)\n",
    "pd.set_option('display.width', 1000)\n",
    "\n",
    "def get_parking_data():\n",
    "    response = requests.get('https://opendata.arcgis.com/datasets/0060469c57864becb76a036d23236143_0.geojson').json()\n",
    "    df = pd.io.json.json_normalize(response['features'])\n",
    "    df = df.drop(df.columns[0], axis=1)\n",
    "    new_columns = [col.rsplit('.')[1].upper() for col in df.columns.tolist()]\n",
    "    df.columns = new_columns\n",
    "    df[['LAT','LNG']] = pd.DataFrame(df['COORDINATES'].values.tolist(), index=df.index)\n",
    "    df['TIMELIMIT_VIOLATION'] = df['TIMELIMIT'].apply(timelimit_violation)\n",
    "    df['PKGTYPE_VIOLATION'] = df['PKGTYPE'].apply(pkgtype_violation)\n",
    "    df['NEXT_SWEEPING_PERIOD'] = df.apply(lambda x: next_sweeping_period(x['PKGSDAY'], x['PKGSWBEG'], x['PKGSWEND']), axis=1)    \n",
    "    df['NEXT_SWEEPING_START'] = df['NEXT_SWEEPING_PERIOD'].apply(lambda x: None if x is None else x[0])\n",
    "    df['NEXT_SWEEPING_END'] = df['NEXT_SWEEPING_PERIOD'].apply(lambda x: None if x is None else x[1])\n",
    "    df['NEXT_SWEEPING_HOURS'] = df['NEXT_SWEEPING_START'].apply(time_to_sweeping)\n",
    "    return df\n",
    "\n",
    "# gets distance between two points, from -> https://stackoverflow.com/questions/41336756/find-the-closest-latitude-and-longitude\n",
    "def distance(lat1, lng1, lat2, lng2):\n",
    "    p = 0.017453292519943295\n",
    "    a = 0.5 - cos((lat2-lat1)*p)/2 + cos(lat1*p)*cos(lat2*p) * (1-cos((lng2-lng1)*p)) / 2\n",
    "    return 12742 * asin(sqrt(a))\n",
    "\n",
    "# returns the closest point\n",
    "def closest(coords, v):   \n",
    "    return min(coords, key=lambda p: distance(v[0],v[1],p[0],p[1]))\n",
    "\n",
    "# returns date of next street sweeping datetime\n",
    "def next_sweeping_date(clean_date): \n",
    "    if clean_date is None: \n",
    "        return None   \n",
    "    digit = clean_date[0]    \n",
    "    wkdy = time.strptime(clean_date.split()[-1][:3],\"%a\").tm_wday\n",
    "    now = datetime.datetime.today()\n",
    "    next_day = now.date() + datetime.timedelta(days=(wkdy-now.weekday())%7)    \n",
    "    if not digit.isdigit() or next_day.day < 7: \n",
    "        return next_day\n",
    "    next_month = pd.datetime(year=now.year, month=now.month + 1, day=1).date()\n",
    "    if next_month.weekday() == wkdy: \n",
    "        return next_month\n",
    "    return next_month.replace(day=(1 + (wkdy - next_month.weekday()) % 7))\n",
    "\n",
    "# returns start and end datetimes of next street cleaning\n",
    "def next_sweeping_period(clean_day, begin, end): \n",
    "    clean_date = next_sweeping_date(clean_day)\n",
    "    if None in [clean_date, begin, end]: \n",
    "        return None\n",
    "    start_datetime = datetime.datetime.combine(clean_date, datetime.datetime.strptime(begin, '%I %p').time())\n",
    "    end_datetime = datetime.datetime.combine(clean_date, datetime.datetime.strptime(end, '%I %p').time())\n",
    "    now = datetime.datetime.today()\n",
    "    if now > end_datetime: \n",
    "        start_datetime += datetime.timedelta(days=7)\n",
    "        end_datetime += datetime.timedelta(days=7)\n",
    "    return [start_datetime, end_datetime]\n",
    "\n",
    "# returns hours to next street sweeping\n",
    "def time_to_sweeping(start_datetime): \n",
    "    td = start_datetime - datetime.datetime.today()\n",
    "    if td < datetime.timedelta(hours=0): \n",
    "        return 0\n",
    "    return td // pd.Timedelta(hours=1)\n",
    "\n",
    "# returns True for timelimit violations\n",
    "def timelimit_violation(limit): \n",
    "    if limit in ['No Parking Anytime', '30 Minutes', '5 Minutes', '1 Hour', '15 Minutes', '90 Minutes']: \n",
    "        return True\n",
    "    return False\n",
    "\n",
    "# returns True for parking type violations\n",
    "def pkgtype_violation(pkgtype): \n",
    "    if pkgtype in ['Red Zone', 'Red Zone (Fire Hydrant)', 'Alley', 'White Zone',\n",
    "                   'No Parking Any Time', 'Yellow Zone', 'Fire Hydrant', 'Crosswalk', 'Residential Zone',\n",
    "                   'Single Space Meter (Double Space)', 'Crosswalk (No Markings)', 'No Parking Passenger Loading', \n",
    "                   'Motorcycle Parking', 'R X R', 'Blue Zone', 'Cross Hatching', 'Taxi Zone', 'Bus Only', \n",
    "                   'Official Vehicle Only', 'Construction', 'Fire Lane', 'Passenger Loading Zone', 'Bike Parking']: \n",
    "        return True\n",
    "    return False\n",
    "\n",
    "class ParkingSpot:\n",
    "    def __init__(self, coord):\n",
    "        self.originalCoord = coord        \n",
    "        self.coordinates = closest(df['COORDINATES'].tolist(), coord)\n",
    "        self.all = df[(df['LAT'] == self.coordinates[0]) & (df['LNG'] == self.coordinates[1])].to_dict(orient='records')[0]\n",
    "        self.distMeters = distance(coord[0], coord[1], self.coordinates[0], self.coordinates[1]) * 1000\n",
    "        self.fullAddress = f\"{self.all['ADDRESS']} {self.all['STREET']}{self.all['SUFFIX']} {self.all['PREFIX']}\"\n",
    "        self.timeLimit = self.all['TIMELIMIT']\n",
    "        self.parkingType = self.all['PKGTYPE']\n",
    "        self.permitArea = self.all['PERMITAREA']\n",
    "        self.eventArea = self.all['EVTAREA']\n",
    "        self.timeViolation = self.all['TIMELIMIT_VIOLATION']\n",
    "        self.parkingViolation = self.all['PKGTYPE_VIOLATION']\n",
    "        "
   ]
  },
  {
   "cell_type": "code",
   "execution_count": 55,
   "metadata": {},
   "outputs": [],
   "source": [
    "df = get_parking_data()"
   ]
  },
  {
   "cell_type": "code",
   "execution_count": 61,
   "metadata": {},
   "outputs": [
    {
     "data": {
      "text/plain": [
       "array([None, 'Mon-Fri', 'Mon-Sat', 'Fri-Sun', 'Sun-Sat',\n",
       "       'Mon-Sat & Fri-Sun', 'Sat-Sun'], dtype=object)"
      ]
     },
     "execution_count": 61,
     "metadata": {},
     "output_type": "execute_result"
    }
   ],
   "source": [
    "df['NOPARKDAYS'].unique()"
   ]
  },
  {
   "cell_type": "code",
   "execution_count": null,
   "metadata": {},
   "outputs": [],
   "source": [
    "DF"
   ]
  }
 ],
 "metadata": {
  "kernelspec": {
   "display_name": "Python 3",
   "language": "python",
   "name": "python3"
  },
  "language_info": {
   "codemirror_mode": {
    "name": "ipython",
    "version": 3
   },
   "file_extension": ".py",
   "mimetype": "text/x-python",
   "name": "python",
   "nbconvert_exporter": "python",
   "pygments_lexer": "ipython3",
   "version": "3.6.8"
  }
 },
 "nbformat": 4,
 "nbformat_minor": 2
}
